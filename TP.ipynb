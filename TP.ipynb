{
 "cells": [
  {
   "cell_type": "markdown",
   "id": "bbb1a4eb",
   "metadata": {},
   "source": [
    "# Primer Trabajo Práctico\n",
    "\n",
    "## Grupo B\n",
    "- Barbero\n",
    "- Brito Saltos\n",
    "- Ferreyra\n",
    "- Fiorotto\n",
    "\n",
    "El objetivo de este trabajo es crear un Análisis Exploratorio de Datos y generar un\n",
    "informe interpretativo del mismo. Para esto se trabajará con el archivo sube2020.csv en el cual están registradas todas las\n",
    "transacciones realizadas durante el año 2020. Luego del AED (Análisis Exploratorio de Datos) correspondiente, se deberá utilizar una o más celdas para presentar las interpretaciones y conclusiones con Markdown."
   ]
  },
  {
   "cell_type": "markdown",
   "id": "5c4049dc",
   "metadata": {},
   "source": [
    "## Descripción de Campos\n",
    "\n",
    "| Etiqueta | Descripción | Tipo de Dato |\n",
    "| :--- | :--- | :--- |\n",
    "| dia_transporte  | Fecha ISO-8601 (date)  | día de transporte informado | \n",
    "| nombre_empresa  | Texto (string)         | nombre de la empresa de transporte | \n",
    "| linea           | Texto (string)         |descripción de la línea | \n",
    "| amba            | Texto (string)         | SI/NO | \n",
    "| tipo_transporte | Texto (string)         | colectivo, tren, subte, lanchas | \n",
    "| jurisdiccion    | Texto (string)         |jurisdicción de la línea (NACIONAL, PROVINCIAL, MUNICIPAL): en caso de subte queda vacío |\n",
    "| provincia       | Texto (string)         | nombre de la provincia, en caso de ser jurisdicción provincial o municipal. Si es jurisdicción nacional figura JN. En caso de subte queda vacío | \n",
    "| municipio       | Texto (string)         | nombre del municipio, en caso de ser jurisdicción municipal. SI es jurisdicción nacional o provincial figura SD o SN respectivamente. En caso de subte queda vacío | \n",
    "| cantidad        | Número entero (integer)|cantidad de transacciones de uso / check-in / checkout sin checkin / Venta de boletos, neteadas de eventuales reversas|\n",
    "| dato_preliminar |  Texto (string)        | SI/NO |"
   ]
  },
  {
   "cell_type": "markdown",
   "id": "8135df5b",
   "metadata": {},
   "source": [
    "# Inicio del Trabajo"
   ]
  },
  {
   "cell_type": "markdown",
   "id": "2fed0582",
   "metadata": {},
   "source": [
    "Montamos el Dataframe"
   ]
  },
  {
   "cell_type": "code",
   "execution_count": 1,
   "id": "586e1d91",
   "metadata": {},
   "outputs": [],
   "source": [
    "# Importamos Librerias\n",
    "import pandas as pd\n",
    "import numpy as np\n",
    "import matplotlib.pyplot as plt\n",
    "import seaborn as sns\n",
    "from sklearn.impute import SimpleImputer"
   ]
  },
  {
   "cell_type": "code",
   "execution_count": 118,
   "id": "b35f82cf",
   "metadata": {},
   "outputs": [
    {
     "data": {
      "text/html": [
       "<div>\n",
       "<style scoped>\n",
       "    .dataframe tbody tr th:only-of-type {\n",
       "        vertical-align: middle;\n",
       "    }\n",
       "\n",
       "    .dataframe tbody tr th {\n",
       "        vertical-align: top;\n",
       "    }\n",
       "\n",
       "    .dataframe thead th {\n",
       "        text-align: right;\n",
       "    }\n",
       "</style>\n",
       "<table border=\"1\" class=\"dataframe\">\n",
       "  <thead>\n",
       "    <tr style=\"text-align: right;\">\n",
       "      <th></th>\n",
       "      <th>DIA_TRANSPORTE</th>\n",
       "      <th>NOMBRE_EMPRESA</th>\n",
       "      <th>LINEA</th>\n",
       "      <th>AMBA</th>\n",
       "      <th>TIPO_TRANSPORTE</th>\n",
       "      <th>JURISDICCION</th>\n",
       "      <th>PROVINCIA</th>\n",
       "      <th>MUNICIPIO</th>\n",
       "      <th>CANTIDAD</th>\n",
       "      <th>DATO_PRELIMINAR</th>\n",
       "    </tr>\n",
       "  </thead>\n",
       "  <tbody>\n",
       "    <tr>\n",
       "      <th>0</th>\n",
       "      <td>2020-01-01</td>\n",
       "      <td>EMPRESA BATAN S.A.</td>\n",
       "      <td>BS_AS_LINEA 715M</td>\n",
       "      <td>NO</td>\n",
       "      <td>COLECTIVO</td>\n",
       "      <td>MUNICIPAL</td>\n",
       "      <td>BUENOS AIRES</td>\n",
       "      <td>GENERAL PUEYRREDON</td>\n",
       "      <td>2154</td>\n",
       "      <td>NO</td>\n",
       "    </tr>\n",
       "    <tr>\n",
       "      <th>1</th>\n",
       "      <td>2020-01-01</td>\n",
       "      <td>COMPAÑIA  DE TRANSPORTE VECINAL S.A.</td>\n",
       "      <td>BS_AS_LINEA_326</td>\n",
       "      <td>SI</td>\n",
       "      <td>COLECTIVO</td>\n",
       "      <td>PROVINCIAL</td>\n",
       "      <td>BUENOS AIRES</td>\n",
       "      <td>SN</td>\n",
       "      <td>1492</td>\n",
       "      <td>NO</td>\n",
       "    </tr>\n",
       "    <tr>\n",
       "      <th>2</th>\n",
       "      <td>2020-01-01</td>\n",
       "      <td>EMPRESA DE TRANSPORTE PERALTA RAMOS SACI</td>\n",
       "      <td>BS_AS_LINEA_512</td>\n",
       "      <td>NO</td>\n",
       "      <td>COLECTIVO</td>\n",
       "      <td>MUNICIPAL</td>\n",
       "      <td>BUENOS AIRES</td>\n",
       "      <td>GENERAL PUEYRREDON</td>\n",
       "      <td>1889</td>\n",
       "      <td>NO</td>\n",
       "    </tr>\n",
       "    <tr>\n",
       "      <th>3</th>\n",
       "      <td>2020-01-01</td>\n",
       "      <td>AUTOBUSES BUENOS AIRES S.R.L. – TRANSPORTE LAR...</td>\n",
       "      <td>BS_AS_LINEA_514</td>\n",
       "      <td>SI</td>\n",
       "      <td>COLECTIVO</td>\n",
       "      <td>MUNICIPAL</td>\n",
       "      <td>BUENOS AIRES</td>\n",
       "      <td>ALMIRANTE BROWN</td>\n",
       "      <td>4669</td>\n",
       "      <td>NO</td>\n",
       "    </tr>\n",
       "    <tr>\n",
       "      <th>4</th>\n",
       "      <td>2020-01-01</td>\n",
       "      <td>EL URBANO SRL</td>\n",
       "      <td>BS_AS_LINEA_522</td>\n",
       "      <td>SI</td>\n",
       "      <td>COLECTIVO</td>\n",
       "      <td>MUNICIPAL</td>\n",
       "      <td>BUENOS AIRES</td>\n",
       "      <td>LANUS</td>\n",
       "      <td>187</td>\n",
       "      <td>NO</td>\n",
       "    </tr>\n",
       "    <tr>\n",
       "      <th>...</th>\n",
       "      <td>...</td>\n",
       "      <td>...</td>\n",
       "      <td>...</td>\n",
       "      <td>...</td>\n",
       "      <td>...</td>\n",
       "      <td>...</td>\n",
       "      <td>...</td>\n",
       "      <td>...</td>\n",
       "      <td>...</td>\n",
       "      <td>...</td>\n",
       "    </tr>\n",
       "    <tr>\n",
       "      <th>356623</th>\n",
       "      <td>2020-12-31</td>\n",
       "      <td>EMPRESA CEFERINO SOCIEDAD ANONIMA</td>\n",
       "      <td>Línea G</td>\n",
       "      <td>NO</td>\n",
       "      <td>COLECTIVO</td>\n",
       "      <td>MUNICIPAL</td>\n",
       "      <td>RÍO NEGRO</td>\n",
       "      <td>VIEDMA</td>\n",
       "      <td>55</td>\n",
       "      <td>NO</td>\n",
       "    </tr>\n",
       "    <tr>\n",
       "      <th>356624</th>\n",
       "      <td>2020-12-31</td>\n",
       "      <td>UNION PLATENSE SRL</td>\n",
       "      <td>NORTE MUNICIPAL</td>\n",
       "      <td>SI</td>\n",
       "      <td>COLECTIVO</td>\n",
       "      <td>MUNICIPAL</td>\n",
       "      <td>BUENOS AIRES</td>\n",
       "      <td>LA PLATA</td>\n",
       "      <td>3245</td>\n",
       "      <td>NO</td>\n",
       "    </tr>\n",
       "    <tr>\n",
       "      <th>356625</th>\n",
       "      <td>2020-12-31</td>\n",
       "      <td>A T A C O NORTE S A C I</td>\n",
       "      <td>RES_PUERTO_TIROL_Y VIC</td>\n",
       "      <td>NO</td>\n",
       "      <td>COLECTIVO</td>\n",
       "      <td>PROVINCIAL</td>\n",
       "      <td>CHACO</td>\n",
       "      <td>SN</td>\n",
       "      <td>522</td>\n",
       "      <td>NO</td>\n",
       "    </tr>\n",
       "    <tr>\n",
       "      <th>356626</th>\n",
       "      <td>2020-12-31</td>\n",
       "      <td>ETACER SRL</td>\n",
       "      <td>STAFE_SANTA FE_LINEA_907</td>\n",
       "      <td>NO</td>\n",
       "      <td>COLECTIVO</td>\n",
       "      <td>NACIONAL</td>\n",
       "      <td>JN</td>\n",
       "      <td>SD</td>\n",
       "      <td>362</td>\n",
       "      <td>NO</td>\n",
       "    </tr>\n",
       "    <tr>\n",
       "      <th>356627</th>\n",
       "      <td>2020-12-31</td>\n",
       "      <td>COOP.DE PROV.DE O.Y S.P.Y C.LAS TONINAS</td>\n",
       "      <td>URBANA DE TRANSPORTE</td>\n",
       "      <td>NO</td>\n",
       "      <td>COLECTIVO</td>\n",
       "      <td>MUNICIPAL</td>\n",
       "      <td>BUENOS AIRES</td>\n",
       "      <td>URBANO DE LA COSTA</td>\n",
       "      <td>986</td>\n",
       "      <td>NO</td>\n",
       "    </tr>\n",
       "  </tbody>\n",
       "</table>\n",
       "<p>356628 rows × 10 columns</p>\n",
       "</div>"
      ],
      "text/plain": [
       "       DIA_TRANSPORTE                                     NOMBRE_EMPRESA  \\\n",
       "0          2020-01-01                                 EMPRESA BATAN S.A.   \n",
       "1          2020-01-01               COMPAÑIA  DE TRANSPORTE VECINAL S.A.   \n",
       "2          2020-01-01           EMPRESA DE TRANSPORTE PERALTA RAMOS SACI   \n",
       "3          2020-01-01  AUTOBUSES BUENOS AIRES S.R.L. – TRANSPORTE LAR...   \n",
       "4          2020-01-01                                      EL URBANO SRL   \n",
       "...               ...                                                ...   \n",
       "356623     2020-12-31                  EMPRESA CEFERINO SOCIEDAD ANONIMA   \n",
       "356624     2020-12-31                                 UNION PLATENSE SRL   \n",
       "356625     2020-12-31                            A T A C O NORTE S A C I   \n",
       "356626     2020-12-31                                         ETACER SRL   \n",
       "356627     2020-12-31            COOP.DE PROV.DE O.Y S.P.Y C.LAS TONINAS   \n",
       "\n",
       "                           LINEA AMBA TIPO_TRANSPORTE JURISDICCION  \\\n",
       "0               BS_AS_LINEA 715M   NO       COLECTIVO    MUNICIPAL   \n",
       "1                BS_AS_LINEA_326   SI       COLECTIVO   PROVINCIAL   \n",
       "2                BS_AS_LINEA_512   NO       COLECTIVO    MUNICIPAL   \n",
       "3                BS_AS_LINEA_514   SI       COLECTIVO    MUNICIPAL   \n",
       "4                BS_AS_LINEA_522   SI       COLECTIVO    MUNICIPAL   \n",
       "...                          ...  ...             ...          ...   \n",
       "356623                   Línea G   NO       COLECTIVO    MUNICIPAL   \n",
       "356624           NORTE MUNICIPAL   SI       COLECTIVO    MUNICIPAL   \n",
       "356625    RES_PUERTO_TIROL_Y VIC   NO       COLECTIVO   PROVINCIAL   \n",
       "356626  STAFE_SANTA FE_LINEA_907   NO       COLECTIVO     NACIONAL   \n",
       "356627      URBANA DE TRANSPORTE   NO       COLECTIVO    MUNICIPAL   \n",
       "\n",
       "           PROVINCIA           MUNICIPIO  CANTIDAD DATO_PRELIMINAR  \n",
       "0       BUENOS AIRES  GENERAL PUEYRREDON      2154              NO  \n",
       "1       BUENOS AIRES                  SN      1492              NO  \n",
       "2       BUENOS AIRES  GENERAL PUEYRREDON      1889              NO  \n",
       "3       BUENOS AIRES     ALMIRANTE BROWN      4669              NO  \n",
       "4       BUENOS AIRES               LANUS       187              NO  \n",
       "...              ...                 ...       ...             ...  \n",
       "356623     RÍO NEGRO              VIEDMA        55              NO  \n",
       "356624  BUENOS AIRES            LA PLATA      3245              NO  \n",
       "356625         CHACO                  SN       522              NO  \n",
       "356626            JN                  SD       362              NO  \n",
       "356627  BUENOS AIRES  URBANO DE LA COSTA       986              NO  \n",
       "\n",
       "[356628 rows x 10 columns]"
      ]
     },
     "execution_count": 118,
     "metadata": {},
     "output_type": "execute_result"
    }
   ],
   "source": [
    "# Importamos en CSV y creamos el DataFrame\n",
    "# ---> parse_dates = guarda columnas como fechas\n",
    "df = pd.read_csv(r\"E:\\Fred\\Documentos\\2.DataScience\\Notebooks\\TP\\sube2020.csv\",parse_dates=['DIA_TRANSPORTE'])  # Importa DataSet desde Dirección de Computadora\n",
    "df"
   ]
  },
  {
   "cell_type": "code",
   "execution_count": 6,
   "id": "9775f455",
   "metadata": {
    "scrolled": true
   },
   "outputs": [
    {
     "name": "stdout",
     "output_type": "stream",
     "text": [
      "<class 'pandas.core.frame.DataFrame'>\n",
      "RangeIndex: 356628 entries, 0 to 356627\n",
      "Data columns (total 10 columns):\n",
      " #   Column           Non-Null Count   Dtype \n",
      "---  ------           --------------   ----- \n",
      " 0   DIA_TRANSPORTE   356628 non-null  object\n",
      " 1   NOMBRE_EMPRESA   356628 non-null  object\n",
      " 2   LINEA            356628 non-null  object\n",
      " 3   AMBA             356628 non-null  object\n",
      " 4   TIPO_TRANSPORTE  356628 non-null  object\n",
      " 5   JURISDICCION     354067 non-null  object\n",
      " 6   PROVINCIA        354067 non-null  object\n",
      " 7   MUNICIPIO        354067 non-null  object\n",
      " 8   CANTIDAD         356628 non-null  int64 \n",
      " 9   DATO_PRELIMINAR  356628 non-null  object\n",
      "dtypes: int64(1), object(9)\n",
      "memory usage: 27.2+ MB\n"
     ]
    }
   ],
   "source": [
    "# Información del DataFrame\n",
    "df.info()"
   ]
  },
  {
   "cell_type": "code",
   "execution_count": 11,
   "id": "3005971d",
   "metadata": {
    "scrolled": true
   },
   "outputs": [
    {
     "data": {
      "text/html": [
       "<div>\n",
       "<style scoped>\n",
       "    .dataframe tbody tr th:only-of-type {\n",
       "        vertical-align: middle;\n",
       "    }\n",
       "\n",
       "    .dataframe tbody tr th {\n",
       "        vertical-align: top;\n",
       "    }\n",
       "\n",
       "    .dataframe thead th {\n",
       "        text-align: right;\n",
       "    }\n",
       "</style>\n",
       "<table border=\"1\" class=\"dataframe\">\n",
       "  <thead>\n",
       "    <tr style=\"text-align: right;\">\n",
       "      <th></th>\n",
       "      <th>CANTIDAD</th>\n",
       "    </tr>\n",
       "  </thead>\n",
       "  <tbody>\n",
       "    <tr>\n",
       "      <th>count</th>\n",
       "      <td>356628.000000</td>\n",
       "    </tr>\n",
       "    <tr>\n",
       "      <th>mean</th>\n",
       "      <td>5026.148881</td>\n",
       "    </tr>\n",
       "    <tr>\n",
       "      <th>std</th>\n",
       "      <td>13371.656183</td>\n",
       "    </tr>\n",
       "    <tr>\n",
       "      <th>min</th>\n",
       "      <td>-43.000000</td>\n",
       "    </tr>\n",
       "    <tr>\n",
       "      <th>25%</th>\n",
       "      <td>287.000000</td>\n",
       "    </tr>\n",
       "    <tr>\n",
       "      <th>50%</th>\n",
       "      <td>1313.000000</td>\n",
       "    </tr>\n",
       "    <tr>\n",
       "      <th>75%</th>\n",
       "      <td>4840.000000</td>\n",
       "    </tr>\n",
       "    <tr>\n",
       "      <th>max</th>\n",
       "      <td>603766.000000</td>\n",
       "    </tr>\n",
       "  </tbody>\n",
       "</table>\n",
       "</div>"
      ],
      "text/plain": [
       "            CANTIDAD\n",
       "count  356628.000000\n",
       "mean     5026.148881\n",
       "std     13371.656183\n",
       "min       -43.000000\n",
       "25%       287.000000\n",
       "50%      1313.000000\n",
       "75%      4840.000000\n",
       "max    603766.000000"
      ]
     },
     "execution_count": 11,
     "metadata": {},
     "output_type": "execute_result"
    }
   ],
   "source": [
    "# Descripción del DataFrame\n",
    "data.describe()"
   ]
  },
  {
   "cell_type": "code",
   "execution_count": 12,
   "id": "b033a848",
   "metadata": {
    "scrolled": true
   },
   "outputs": [
    {
     "data": {
      "text/html": [
       "<div>\n",
       "<style scoped>\n",
       "    .dataframe tbody tr th:only-of-type {\n",
       "        vertical-align: middle;\n",
       "    }\n",
       "\n",
       "    .dataframe tbody tr th {\n",
       "        vertical-align: top;\n",
       "    }\n",
       "\n",
       "    .dataframe thead th {\n",
       "        text-align: right;\n",
       "    }\n",
       "</style>\n",
       "<table border=\"1\" class=\"dataframe\">\n",
       "  <thead>\n",
       "    <tr style=\"text-align: right;\">\n",
       "      <th></th>\n",
       "      <th>DIA_TRANSPORTE</th>\n",
       "      <th>NOMBRE_EMPRESA</th>\n",
       "      <th>LINEA</th>\n",
       "      <th>AMBA</th>\n",
       "      <th>TIPO_TRANSPORTE</th>\n",
       "      <th>JURISDICCION</th>\n",
       "      <th>PROVINCIA</th>\n",
       "      <th>MUNICIPIO</th>\n",
       "      <th>DATO_PRELIMINAR</th>\n",
       "    </tr>\n",
       "  </thead>\n",
       "  <tbody>\n",
       "    <tr>\n",
       "      <th>count</th>\n",
       "      <td>356628</td>\n",
       "      <td>356628</td>\n",
       "      <td>356628</td>\n",
       "      <td>356628</td>\n",
       "      <td>356628</td>\n",
       "      <td>354067</td>\n",
       "      <td>354067</td>\n",
       "      <td>354067</td>\n",
       "      <td>356628</td>\n",
       "    </tr>\n",
       "    <tr>\n",
       "      <th>unique</th>\n",
       "      <td>366</td>\n",
       "      <td>273</td>\n",
       "      <td>1167</td>\n",
       "      <td>2</td>\n",
       "      <td>4</td>\n",
       "      <td>3</td>\n",
       "      <td>19</td>\n",
       "      <td>72</td>\n",
       "      <td>1</td>\n",
       "    </tr>\n",
       "    <tr>\n",
       "      <th>top</th>\n",
       "      <td>2020-03-09</td>\n",
       "      <td>AUTOTR TRAPICHE SRL Y TRANSP GRAL B.MITRE SRL UTE</td>\n",
       "      <td>LINEA 1</td>\n",
       "      <td>NO</td>\n",
       "      <td>COLECTIVO</td>\n",
       "      <td>PROVINCIAL</td>\n",
       "      <td>BUENOS AIRES</td>\n",
       "      <td>SN</td>\n",
       "      <td>NO</td>\n",
       "    </tr>\n",
       "    <tr>\n",
       "      <th>freq</th>\n",
       "      <td>1160</td>\n",
       "      <td>13204</td>\n",
       "      <td>1387</td>\n",
       "      <td>211472</td>\n",
       "      <td>346909</td>\n",
       "      <td>158895</td>\n",
       "      <td>115444</td>\n",
       "      <td>158895</td>\n",
       "      <td>356628</td>\n",
       "    </tr>\n",
       "  </tbody>\n",
       "</table>\n",
       "</div>"
      ],
      "text/plain": [
       "       DIA_TRANSPORTE                                     NOMBRE_EMPRESA  \\\n",
       "count          356628                                             356628   \n",
       "unique            366                                                273   \n",
       "top        2020-03-09  AUTOTR TRAPICHE SRL Y TRANSP GRAL B.MITRE SRL UTE   \n",
       "freq             1160                                              13204   \n",
       "\n",
       "          LINEA    AMBA TIPO_TRANSPORTE JURISDICCION     PROVINCIA MUNICIPIO  \\\n",
       "count    356628  356628          356628       354067        354067    354067   \n",
       "unique     1167       2               4            3            19        72   \n",
       "top     LINEA 1      NO       COLECTIVO   PROVINCIAL  BUENOS AIRES        SN   \n",
       "freq       1387  211472          346909       158895        115444    158895   \n",
       "\n",
       "       DATO_PRELIMINAR  \n",
       "count           356628  \n",
       "unique               1  \n",
       "top                 NO  \n",
       "freq            356628  "
      ]
     },
     "execution_count": 12,
     "metadata": {},
     "output_type": "execute_result"
    }
   ],
   "source": [
    "# Descripción del DataFrame de Columnas String\n",
    "data.describe(include = object)"
   ]
  },
  {
   "cell_type": "markdown",
   "id": "ba9c9221",
   "metadata": {},
   "source": [
    "## Datos NaN \n",
    "Observamos que los mismos corresponden a las columnas **Jurisdicción, Provincia y Municipio** en los cuales los datos vacios corresponden al servicio de **Subte**, por lo tanto No debemos eliminar los mismos."
   ]
  },
  {
   "cell_type": "code",
   "execution_count": 8,
   "id": "e05dc899",
   "metadata": {
    "scrolled": true
   },
   "outputs": [
    {
     "data": {
      "text/plain": [
       "DIA_TRANSPORTE     0.000000\n",
       "NOMBRE_EMPRESA     0.000000\n",
       "LINEA              0.000000\n",
       "AMBA               0.000000\n",
       "TIPO_TRANSPORTE    0.000000\n",
       "JURISDICCION       0.718115\n",
       "PROVINCIA          0.718115\n",
       "MUNICIPIO          0.718115\n",
       "CANTIDAD           0.000000\n",
       "DATO_PRELIMINAR    0.000000\n",
       "dtype: float64"
      ]
     },
     "execution_count": 8,
     "metadata": {},
     "output_type": "execute_result"
    }
   ],
   "source": [
    "# Datos Nan\n",
    "data.isna().mean()*100"
   ]
  },
  {
   "cell_type": "markdown",
   "id": "f1b33d32",
   "metadata": {},
   "source": [
    "Por lo tanto vamos a reemplazar los datos vacios por el string \"Subte\""
   ]
  },
  {
   "cell_type": "code",
   "execution_count": 36,
   "id": "1c7196ae",
   "metadata": {},
   "outputs": [
    {
     "data": {
      "text/plain": [
       "DIA_TRANSPORTE     0.0\n",
       "NOMBRE_EMPRESA     0.0\n",
       "LINEA              0.0\n",
       "AMBA               0.0\n",
       "TIPO_TRANSPORTE    0.0\n",
       "JURISDICCION       0.0\n",
       "PROVINCIA          0.0\n",
       "MUNICIPIO          0.0\n",
       "CANTIDAD           0.0\n",
       "DATO_PRELIMINAR    0.0\n",
       "dtype: float64"
      ]
     },
     "execution_count": 36,
     "metadata": {},
     "output_type": "execute_result"
    }
   ],
   "source": [
    "# Copiamos el Dataframe original (df) en un nuevo DataFrame (dr_new), así no no modificarmos el orginal \n",
    "df_new = df              \n",
    "\n",
    "# Remplazamos los celdas NaN\n",
    "df_new[\"JURISDICCION\"] = df_new[\"JURISDICCION\"].fillna(\"SUBTE CABA\")\n",
    "df_new[\"PROVINCIA\"] = df_new[\"PROVINCIA\"].fillna(\"SUBTE CABA\")\n",
    "df_new[\"MUNICIPIO\"] = df_new[\"MUNICIPIO\"].fillna(\"SUBTE CABA\")\n",
    "\n",
    "#Verificamos \n",
    "df_new.isna().mean()*100"
   ]
  },
  {
   "cell_type": "markdown",
   "id": "639c8f63",
   "metadata": {},
   "source": [
    "Modificamos en la columnas:\n",
    "- PROVINCIA: \"JN\" por \"JURISDICCION NACIONAL\"\n",
    "- JURISDICCION: \"SD\" por \"JURISDICCION NACIONAL\"\n",
    "- JURISDICCION: \"SN\" por \"JURISDICCION PROVINCIAL\""
   ]
  },
  {
   "cell_type": "code",
   "execution_count": 54,
   "id": "ace8393a",
   "metadata": {},
   "outputs": [],
   "source": [
    "df_new[\"PROVINCIA\"].replace({\"JN\":\"JURISDICCION NACIONAL\"},inplace=True)\n",
    "df_new[\"MUNICIPIO\"].replace({\"SD\":\"JURISDICCION NACIONAL\"},inplace=True)\n",
    "df_new[\"MUNICIPIO\"].replace({\"SN\":\"JURISDICCION PROVINCIAL\"},inplace=True)"
   ]
  },
  {
   "cell_type": "markdown",
   "id": "8a7103f9",
   "metadata": {},
   "source": [
    "Analizamos lo valores Únicos de las columnas JURISDICCION, PROVINCIA JURISDICCION y MUNICIPIO"
   ]
  },
  {
   "cell_type": "code",
   "execution_count": 50,
   "id": "032a409f",
   "metadata": {
    "scrolled": false
   },
   "outputs": [
    {
     "data": {
      "text/plain": [
       "BUENOS AIRES             115444\n",
       "MENDOZA                   73880\n",
       "JURISDICCION NACIONAL     57376\n",
       "SAN JUAN                  24176\n",
       "JUJUY                     19802\n",
       "NEUQUÉN                   11201\n",
       "SANTA FE                   8586\n",
       "RÍO NEGRO                  8202\n",
       "ENTRE RÍOS                 5957\n",
       "CHUBUT                     5421\n",
       "CATAMARCA                  5171\n",
       "CHACO                      4098\n",
       "SAN LUIS                   4027\n",
       "FORMOSA                    3426\n",
       "CORRIENTES                 3190\n",
       "LA PAMPA                   2605\n",
       "SUBTE CABA                 2561\n",
       "TIERRA DEL FUEGO            732\n",
       "LA RIOJA                    672\n",
       "CORDOBA                     101\n",
       "Name: PROVINCIA, dtype: int64"
      ]
     },
     "execution_count": 50,
     "metadata": {},
     "output_type": "execute_result"
    }
   ],
   "source": [
    "df_new.PROVINCIA.value_counts()"
   ]
  },
  {
   "cell_type": "code",
   "execution_count": 40,
   "id": "f4552508",
   "metadata": {
    "scrolled": true
   },
   "outputs": [
    {
     "data": {
      "text/plain": [
       "PROVINCIAL    158895\n",
       "MUNICIPAL     137796\n",
       "NACIONAL       57376\n",
       "SUBTE CABA      2561\n",
       "Name: JURISDICCION, dtype: int64"
      ]
     },
     "execution_count": 40,
     "metadata": {},
     "output_type": "execute_result"
    }
   ],
   "source": [
    "df_new.JURISDICCION.value_counts()"
   ]
  },
  {
   "cell_type": "code",
   "execution_count": 55,
   "id": "d6e23115",
   "metadata": {},
   "outputs": [
    {
     "data": {
      "text/plain": [
       "JURISDICCION PROVINCIAL         158895\n",
       "JURISDICCION NACIONAL            57376\n",
       "SAN SALVADOR DE JUJUY            16105\n",
       "GENERAL PUEYRREDON                9497\n",
       "NEUQUEN                           8859\n",
       "                                 ...  \n",
       "PINAMAR                            184\n",
       "PRESIDENCIA ROQUE SAENZ PEÑA       138\n",
       "VILLA ALLENDE                      101\n",
       "MERCEDES                            80\n",
       "VILLA CONSTITUCION                  58\n",
       "Name: MUNICIPIO, Length: 73, dtype: int64"
      ]
     },
     "execution_count": 55,
     "metadata": {},
     "output_type": "execute_result"
    }
   ],
   "source": [
    "df_new.MUNICIPIO.value_counts()"
   ]
  },
  {
   "cell_type": "markdown",
   "id": "1204b663",
   "metadata": {},
   "source": [
    "## ANALISIS EXPLORATORIO DE DATOS"
   ]
  },
  {
   "cell_type": "markdown",
   "id": "47694817",
   "metadata": {},
   "source": [
    "### a) cantidad de transacciones  por Provincia en 2020"
   ]
  },
  {
   "cell_type": "code",
   "execution_count": 111,
   "id": "b1ebcc6d",
   "metadata": {
    "scrolled": false
   },
   "outputs": [
    {
     "data": {
      "text/plain": [
       "PROVINCIA\n",
       "BUENOS AIRES             115444\n",
       "MENDOZA                   73880\n",
       "JURISDICCION NACIONAL     57376\n",
       "SAN JUAN                  24176\n",
       "JUJUY                     19802\n",
       "NEUQUÉN                   11201\n",
       "SANTA FE                   8586\n",
       "RÍO NEGRO                  8202\n",
       "ENTRE RÍOS                 5957\n",
       "CHUBUT                     5421\n",
       "CATAMARCA                  5171\n",
       "CHACO                      4098\n",
       "SAN LUIS                   4027\n",
       "FORMOSA                    3426\n",
       "CORRIENTES                 3190\n",
       "LA PAMPA                   2605\n",
       "SUBTE CABA                 2561\n",
       "TIERRA DEL FUEGO            732\n",
       "LA RIOJA                    672\n",
       "CORDOBA                     101\n",
       "Name: CANTIDAD, dtype: int64"
      ]
     },
     "execution_count": 111,
     "metadata": {},
     "output_type": "execute_result"
    }
   ],
   "source": [
    "Prov_Cant = df_new.groupby(\"PROVINCIA\").CANTIDAD.count().sort_values(ascending=False) # count() --> Cuenta  / sort_values()  --> ordena\n",
    "# Prov_Cant.index[:]\n",
    "# Prov_Cant.values[:]\n",
    "Prov_Cant"
   ]
  },
  {
   "cell_type": "markdown",
   "id": "00899cb0",
   "metadata": {},
   "source": [
    "Graficamos en un Gráfico de Barras"
   ]
  },
  {
   "cell_type": "code",
   "execution_count": 139,
   "id": "0f70a6a1",
   "metadata": {
    "scrolled": true
   },
   "outputs": [
    {
     "data": {
      "image/png": "[encoded data removed]",
      "text/plain": [
       "<Figure size 432x288 with 1 Axes>"
      ]
     },
     "metadata": {
      "needs_background": "light"
     },
     "output_type": "display_data"
    }
   ],
   "source": [
    "# Create bars\n",
    "plt.bar(Prov_Cant.index[:],Prov_Cant.values[:] )\n",
    "\n",
    "# Create names on the x-axis\n",
    "plt.xticks(Prov_Cant.index[:], rotation=90 )\n",
    "\n",
    "# Add title and axis names\n",
    "plt.title('Transacciones de SUBE Totales por Provincia - Año 2020 ')\n",
    "plt.xlabel(\"PROVINCIA\")\n",
    "plt.ylabel(\"CANTIDAD\")\n",
    "\n",
    "# Show graphic\n",
    "plt.show()"
   ]
  },
  {
   "cell_type": "markdown",
   "id": "e0536412",
   "metadata": {},
   "source": [
    "### b) cantidad de transacciones por Mes en 2020"
   ]
  },
  {
   "cell_type": "code",
   "execution_count": 138,
   "id": "0bc457c6",
   "metadata": {
    "scrolled": true
   },
   "outputs": [
    {
     "data": {
      "image/png": "[encoded data removed]",
      "text/plain": [
       "<Figure size 432x288 with 1 Axes>"
      ]
     },
     "metadata": {
      "needs_background": "light"
     },
     "output_type": "display_data"
    }
   ],
   "source": [
    "#Genero un dataframe con la informacion a graficar\n",
    "\n",
    "#Me quedo con el mes como string\n",
    "df_new[\"Mes\"] = df[\"DIA_TRANSPORTE\"].dt.strftime(\"%m\")\n",
    "#df_new[\"Mes\"].replace({\"01\":\"Ene.\",\"02\":\"Feb.\",\"03\":\"Mar.\",\"04\":\"Abr.\",\"05\":\"May.\",\"06\":\"Jun.\",\n",
    "#                       \"07\":\"Jul.\",\"08\":\"Ago.\",\"09\":\"Sep.\",\"10\":\"Oct.\",\"11\":\"Nov\",\"12\":\"Dec\"},inplace=True)\n",
    "\n",
    "#Cuento cuantos datos tengo por año\n",
    "df_graficar = df_new.groupby(\"Mes\").CANTIDAD.count()\n",
    "\n",
    "#Creamos la figura \n",
    "fig, ax = plt.subplots()\n",
    "\n",
    "#Dibujamos en la figura un grafico de lineas\n",
    "ax.plot(df_graficar.index, df_graficar.values)\n",
    "\n",
    "#Seteamos label, titulo y leyenda\n",
    "ax.set_xlabel(\"Mes\")\n",
    "ax.set_ylabel(\"Cantidad de Transacciones\")\n",
    "ax.set_title(\"Cantidad de Transacciones Totales de SUBE por Mes - Año 2020\")\n",
    "plt.show()"
   ]
  },
  {
   "cell_type": "code",
   "execution_count": 205,
   "id": "d4e351c4",
   "metadata": {},
   "outputs": [
    {
     "data": {
      "image/png": "[encoded data removed]",
      "text/plain": [
       "<Figure size 720x360 with 1 Axes>"
      ]
     },
     "metadata": {
      "needs_background": "light"
     },
     "output_type": "display_data"
    }
   ],
   "source": [
    "prov = [\"BUENOS AIRES\",\"MENDOZA\",\"SAN JUAN\",\"JUJUY\"]\n",
    "\n",
    "#Creamos la figura \n",
    "fig, ax = plt.subplots(figsize=(10,5))\n",
    "\n",
    "#Dibujamos en la figura un grafico de lineas\n",
    "for i,provincia in enumerate(prov):\n",
    "    ax.plot(df_new[df_new.PROVINCIA == provincia].groupby(\"Mes\").CANTIDAD.count().index, \n",
    "            df_new[df_new.PROVINCIA == provincia].groupby(\"Mes\").CANTIDAD.count().values,\n",
    "            label = provincia)\n",
    "\n",
    "#Seteamos label, titulo y leyenda\n",
    "ax.set_xlabel(\"Mes\")\n",
    "ax.set_ylabel(\"Cantidad de Transacciones\")\n",
    "ax.set_title(\"Cantidad de Transacciones de SUBE por Mes - Año 2020\")\n",
    "ax.legend(loc=\"lower right\",fontsize=8)\n",
    "plt.show()\n",
    "\n"
   ]
  },
  {
   "cell_type": "code",
   "execution_count": 209,
   "id": "d8932d37",
   "metadata": {
    "scrolled": true
   },
   "outputs": [
    {
     "data": {
      "image/png": "[encoded data removed]",
      "text/plain": [
       "<Figure size 720x360 with 1 Axes>"
      ]
     },
     "metadata": {
      "needs_background": "light"
     },
     "output_type": "display_data"
    }
   ],
   "source": [
    "#Creamos la figura \n",
    "fig, ax = plt.subplots(figsize=(10,5))\n",
    "\n",
    "#Dibujamos en la figura un grafico de lineas\n",
    "ax.plot(df_new[df_new.PROVINCIA == \"BUENOS AIRES\"].groupby(\"Mes\").CANTIDAD.count().index, \n",
    "        df_new[df_new.PROVINCIA == \"BUENOS AIRES\"].groupby(\"Mes\").CANTIDAD.count().values,\n",
    "        label = \"BUENOS AIRES\")\n",
    "\n",
    "#Seteamos label, titulo y leyenda\n",
    "ax.set_xlabel(\"Mes\")\n",
    "ax.set_ylabel(\"Cantidad de Transacciones\")\n",
    "ax.set_title(\"Cantidad de Transacciones SUBE por Mes - Año 2020\")\n",
    "ax.legend(loc=\"lower right\",fontsize=8)\n",
    "plt.show()"
   ]
  },
  {
   "cell_type": "code",
   "execution_count": 224,
   "id": "74889786",
   "metadata": {},
   "outputs": [
    {
     "ename": "TypeError",
     "evalue": "unsupported operand type(s) for &: 'str' and 'str'",
     "output_type": "error",
     "traceback": [
      "\u001b[1;31m---------------------------------------------------------------------------\u001b[0m",
      "\u001b[1;31mTypeError\u001b[0m                                 Traceback (most recent call last)",
      "\u001b[1;32m<ipython-input-224-a8d5eba4a26c>\u001b[0m in \u001b[0;36m<module>\u001b[1;34m\u001b[0m\n\u001b[1;32m----> 1\u001b[1;33m \u001b[0mdf_new\u001b[0m\u001b[1;33m[\u001b[0m\u001b[0mdf_new\u001b[0m\u001b[1;33m.\u001b[0m\u001b[0mPROVINCIA\u001b[0m \u001b[1;33m==\u001b[0m \u001b[1;34m\"BUENOS AIRES\"\u001b[0m\u001b[1;33m]\u001b[0m\u001b[1;33m.\u001b[0m\u001b[0mgroupby\u001b[0m\u001b[1;33m(\u001b[0m \u001b[1;34m\"Mes\"\u001b[0m \u001b[1;33m&\u001b[0m \u001b[1;34m\"MUNICIPIO\"\u001b[0m \u001b[1;33m)\u001b[0m\u001b[1;33m.\u001b[0m\u001b[0mcount\u001b[0m\u001b[1;33m(\u001b[0m\u001b[1;33m)\u001b[0m\u001b[1;33m\u001b[0m\u001b[1;33m\u001b[0m\u001b[0m\n\u001b[0m",
      "\u001b[1;31mTypeError\u001b[0m: unsupported operand type(s) for &: 'str' and 'str'"
     ]
    }
   ],
   "source": [
    "df_new[df_new.PROVINCIA == \"BUENOS AIRES\"].groupby( \"Mes\" & \"MUNICIPIO\" ).count()\n"
   ]
  },
  {
   "cell_type": "code",
   "execution_count": 211,
   "id": "93e895b8",
   "metadata": {},
   "outputs": [
    {
     "data": {
      "image/png": "[encoded data removed]",
      "text/plain": [
       "<Figure size 432x288 with 1 Axes>"
      ]
     },
     "metadata": {
      "needs_background": "light"
     },
     "output_type": "display_data"
    }
   ],
   "source": [
    "# Create bars\n",
    "plt.bar(Prov_Cant.index[:],Prov_Cant.values[:] )\n",
    "\n",
    "# Create names on the x-axis\n",
    "plt.xticks(Prov_Cant.index[:], rotation=90 )\n",
    "\n",
    "# Add title and axis names\n",
    "plt.title('Transacciones de SUBE de BUENOS AIRES - Año 2020 ')\n",
    "plt.xlabel(\"MUNICIPIO\")\n",
    "plt.ylabel(\"CANTIDAD\")\n",
    "\n",
    "# Show graphic\n",
    "plt.show()"
   ]
  },
  {
   "cell_type": "code",
   "execution_count": 160,
   "id": "92064a1d",
   "metadata": {
    "scrolled": false
   },
   "outputs": [
    {
     "data": {
      "text/plain": [
       "1        228\n",
       "2        167\n",
       "3        120\n",
       "4        117\n",
       "6        114\n",
       "        ... \n",
       "5864       1\n",
       "7913       1\n",
       "11447      1\n",
       "9966       1\n",
       "5656       1\n",
       "Name: CANTIDAD, Length: 6798, dtype: int64"
      ]
     },
     "execution_count": 160,
     "metadata": {},
     "output_type": "execute_result"
    }
   ],
   "source": [
    "df_new[(df_new.PROVINCIA == \"BUENOS AIRES\") & (df_new.AMBA == \"NO\")].CANTIDAD.value_counts()\n"
   ]
  },
  {
   "cell_type": "code",
   "execution_count": 163,
   "id": "50e3d298",
   "metadata": {
    "scrolled": true
   },
   "outputs": [
    {
     "data": {
      "text/plain": [
       "Mes\n",
       "01    10170\n",
       "02     9474\n",
       "03     9755\n",
       "04     9170\n",
       "05     9184\n",
       "06     9333\n",
       "07     9567\n",
       "08     9856\n",
       "09     9537\n",
       "10     9866\n",
       "11     9595\n",
       "12     9937\n",
       "Name: CANTIDAD, dtype: int64"
      ]
     },
     "execution_count": 163,
     "metadata": {},
     "output_type": "execute_result"
    }
   ],
   "source": [
    "df_new[df_new.PROVINCIA == \"BUENOS AIRES\"].groupby(\"Mes\").CANTIDAD.count()"
   ]
  },
  {
   "cell_type": "code",
   "execution_count": 207,
   "id": "cf4755c4",
   "metadata": {},
   "outputs": [
    {
     "data": {
      "image/png": "[encoded data removed]",
      "text/plain": [
       "<Figure size 720x360 with 1 Axes>"
      ]
     },
     "metadata": {
      "needs_background": "light"
     },
     "output_type": "display_data"
    }
   ],
   "source": [
    "def graf_mes(dt_gropu,lista,title,xlabel,ylabel):\n",
    "    #Creamos la figura \n",
    "    fig, ax = plt.subplots(figsize=(10,5))\n",
    "\n",
    "    #Dibujamos en la figura un grafico de lineas\n",
    "    for i,etiqueta in enumerate(lista):\n",
    "        ax.plot(dt_gropu.index, \n",
    "                dt_gropu.values,\n",
    "                label = lista)\n",
    "        \n",
    "    #Seteamos label, titulo y leyenda\n",
    "    ax.set_title(title)\n",
    "    ax.set_xlabel(xlabel)\n",
    "    ax.set_ylabel(ylabel)\n",
    "    ax.legend(loc=\"lower right\",fontsize=8)\n",
    "    plt.show()\n",
    "\n",
    "condicion = df_new[df_new.PROVINCIA == provincia].groupby(\"Mes\").CANTIDAD.count()\n",
    "prov = [\"BUENOS AIRES\",\"MENDOZA\",\"SAN JUAN\",\"JUJUY\"]\n",
    "title = \"Cantidad de Transacciones de SUBE por Mes - Año 2020\"\n",
    "xlabel = \"Mes\"\n",
    "ylabel = \"Cantidad de Transacciones\"\n",
    "graf_mes(condicion,prov,title,xlabel,ylabel)\n"
   ]
  },
  {
   "cell_type": "markdown",
   "id": "9330bec4",
   "metadata": {},
   "source": [
    "## Conclusiones\n",
    "\n",
    "### a) Cantidad de transacciones por Provincia en 2020"
   ]
  }
 ],
 "metadata": {
  "kernelspec": {
   "display_name": "Python 3",
   "language": "python",
   "name": "python3"
  },
  "language_info": {
   "codemirror_mode": {
    "name": "ipython",
    "version": 3
   },
   "file_extension": ".py",
   "mimetype": "text/x-python",
   "name": "python",
   "nbconvert_exporter": "python",
   "pygments_lexer": "ipython3",
   "version": "3.8.8"
  }
 },
 "nbformat": 4,
 "nbformat_minor": 5
}
